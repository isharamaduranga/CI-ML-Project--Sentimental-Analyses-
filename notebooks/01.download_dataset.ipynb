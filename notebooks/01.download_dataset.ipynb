{
 "cells": [
  {
   "cell_type": "code",
   "execution_count": 20,
   "id": "initial_id",
   "metadata": {
    "ExecuteTime": {
     "end_time": "2024-12-22T07:15:01.019182Z",
     "start_time": "2024-12-22T07:15:00.906955Z"
    }
   },
   "outputs": [],
   "source": [
    "import os\n",
    "import zipfile\n",
    "from kaggle.api.kaggle_api_extended import KaggleApi\n",
    "import json"
   ]
  },
  {
   "cell_type": "code",
   "execution_count": 21,
   "id": "a0251874-409a-4911-90bb-b1cd5daeeb31",
   "metadata": {},
   "outputs": [],
   "source": [
    "# Load Kaggle credentials from kaggle.json\n",
    "with open('../artifacts/kaggle.json', 'r') as file:\n",
    "    data = json.load(file)"
   ]
  },
  {
   "cell_type": "code",
   "execution_count": 22,
   "id": "aaf858d2-6d0d-4eed-8f13-3cd7753aeebe",
   "metadata": {},
   "outputs": [
    {
     "data": {
      "text/plain": [
       "{'username': 'maduranga97', 'key': '5b69eaf80c7e8548e39af67dac61cb00'}"
      ]
     },
     "execution_count": 22,
     "metadata": {},
     "output_type": "execute_result"
    }
   ],
   "source": [
    "data"
   ]
  },
  {
   "cell_type": "code",
   "execution_count": 23,
   "id": "fcf4e172-c401-4a4c-8176-c11a25f2e209",
   "metadata": {},
   "outputs": [],
   "source": [
    "# Set Kaggle API environment variables\n",
    "os.environ['KAGGLE_USERNAME'] = data['username']\n",
    "os.environ['KAGGLE_KEY'] = data['key']"
   ]
  },
  {
   "cell_type": "code",
   "execution_count": 24,
   "id": "cf3882e5-ccd9-44d2-a7e7-0c0940a27d0b",
   "metadata": {},
   "outputs": [],
   "source": [
    "# Initialize and authenticate Kaggle API\n",
    "api = KaggleApi()\n",
    "api.authenticate()"
   ]
  },
  {
   "cell_type": "code",
   "execution_count": 25,
   "id": "29276a53-0356-4fa0-9c3e-0e6da841c0ab",
   "metadata": {},
   "outputs": [],
   "source": [
    "# Define competition name\n",
    "competition_name = 'TweetSentimentBR'"
   ]
  },
  {
   "cell_type": "code",
   "execution_count": 26,
   "id": "8207d866-f8ab-4f56-b6c2-fb4627f3b7fa",
   "metadata": {},
   "outputs": [
    {
     "name": "stdout",
     "output_type": "stream",
     "text": [
      "Downloading dataset from TweetSentimentBR competition...\n"
     ]
    }
   ],
   "source": [
    "# Define the download path\n",
    "download_path = '../artifacts/files'\n",
    "os.makedirs(download_path, exist_ok=True)\n",
    "\n",
    "# Download the dataset\n",
    "print(f\"Downloading dataset from {competition_name} competition...\")\n",
    "api.competition_download_files(competition_name, path=download_path)"
   ]
  },
  {
   "cell_type": "code",
   "execution_count": 27,
   "id": "f0d07118-4052-40d2-b049-ed8a9a175562",
   "metadata": {
    "ExecuteTime": {
     "end_time": "2024-12-22T07:43:42.990033Z",
     "start_time": "2024-12-22T07:43:42.973914Z"
    }
   },
   "outputs": [
    {
     "name": "stdout",
     "output_type": "stream",
     "text": [
      "Extracting dataset...\n",
      "Dataset extracted successfully!\n",
      "Process completed successfully!\n"
     ]
    }
   ],
   "source": [
    "# Extract the dataset\n",
    "zip_file_path = os.path.join(download_path, f'{competition_name}.zip')\n",
    "if os.path.exists(zip_file_path):\n",
    "    print(\"Extracting dataset...\")\n",
    "    with zipfile.ZipFile(zip_file_path, 'r') as zip_ref:\n",
    "        zip_ref.extractall(download_path)\n",
    "    os.remove(zip_file_path)\n",
    "    print(\"Dataset extracted successfully!\")\n",
    "else:\n",
    "    print(\"Error: Dataset ZIP file not found!\")\n",
    "\n",
    "print(\"Process completed successfully!\")"
   ]
  }
 ],
 "metadata": {
  "kernelspec": {
   "display_name": "Python 3 (ipykernel)",
   "language": "python",
   "name": "python3"
  },
  "language_info": {
   "codemirror_mode": {
    "name": "ipython",
    "version": 3
   },
   "file_extension": ".py",
   "mimetype": "text/x-python",
   "name": "python",
   "nbconvert_exporter": "python",
   "pygments_lexer": "ipython3",
   "version": "3.11.4"
  }
 },
 "nbformat": 4,
 "nbformat_minor": 5
}
