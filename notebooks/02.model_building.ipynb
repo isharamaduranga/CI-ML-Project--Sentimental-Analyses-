{
 "cells": [
  {
   "cell_type": "code",
   "execution_count": 34,
   "id": "3cb2c3bd-10f4-4d5c-8b96-cab1fea74d7d",
   "metadata": {
    "ExecuteTime": {
     "end_time": "2024-12-22T08:49:34.679253Z",
     "start_time": "2024-12-22T08:49:33.466045Z"
    }
   },
   "outputs": [],
   "source": [
    "import os\n",
    "import re\n",
    "import string\n",
    "import numpy as np\n",
    "import pandas as pd\n",
    "import matplotlib.pyplot as plt\n",
    "import seaborn as sns\n",
    "from nltk.stem import RSLPStemmer  # Portuguese stemmer\n",
    "import nltk\n",
    "from collections import Counter\n",
    "from sklearn.model_selection import train_test_split\n",
    "from sklearn.ensemble import RandomForestClassifier\n",
    "import pickle\n",
    "import unicodedata\n",
    "from wordcloud import WordCloud"
   ]
  },
  {
   "cell_type": "code",
   "execution_count": 35,
   "id": "f14d2791-2591-40aa-8a5c-24810bb891d8",
   "metadata": {},
   "outputs": [],
   "source": [
    "# Download required NLTK resources"
   ]
  },
  {
   "cell_type": "code",
   "execution_count": 36,
   "id": "17f79ceb-c17a-474b-8f57-411cb1461859",
   "metadata": {},
   "outputs": [
    {
     "name": "stderr",
     "output_type": "stream",
     "text": [
      "[nltk_data] Downloading package rslp to ../static/model/nltk_data...\n",
      "[nltk_data]   Package rslp is already up-to-date!\n",
      "[nltk_data] Downloading package stopwords to\n",
      "[nltk_data]     ../static/model/nltk_data...\n",
      "[nltk_data]   Package stopwords is already up-to-date!\n"
     ]
    },
    {
     "data": {
      "text/plain": [
       "True"
      ]
     },
     "execution_count": 36,
     "metadata": {},
     "output_type": "execute_result"
    }
   ],
   "source": [
    "# Set NLTK data path to custom directory\n",
    "nltk.data.path.append('../static/model/nltk_data')  \n",
    "\n",
    "# Download required resources to the correct location\n",
    "nltk.download('rslp', download_dir='../static/model/nltk_data')\n",
    "nltk.download('stopwords', download_dir='../static/model/nltk_data')"
   ]
  },
  {
   "cell_type": "code",
   "execution_count": 37,
   "id": "c2a7e7b8ce1a5ce2",
   "metadata": {
    "ExecuteTime": {
     "end_time": "2024-12-22T09:54:51.387565Z",
     "start_time": "2024-12-22T09:54:51.357509Z"
    }
   },
   "outputs": [],
   "source": [
    "train_df  = pd.read_csv('../artifacts/Train.csv')\n",
    "test_df = pd.read_csv('../artifacts/Test.csv')"
   ]
  },
  {
   "cell_type": "code",
   "execution_count": 38,
   "id": "74a9601c2ac4928f",
   "metadata": {
    "ExecuteTime": {
     "end_time": "2024-12-22T09:54:53.269344Z",
     "start_time": "2024-12-22T09:54:53.260173Z"
    }
   },
   "outputs": [
    {
     "name": "stdout",
     "output_type": "stream",
     "text": [
      "Train data shape: (50000, 5)\n",
      "\n",
      "Train data sample:\n"
     ]
    },
    {
     "data": {
      "text/html": [
       "<div>\n",
       "<style scoped>\n",
       "    .dataframe tbody tr th:only-of-type {\n",
       "        vertical-align: middle;\n",
       "    }\n",
       "\n",
       "    .dataframe tbody tr th {\n",
       "        vertical-align: top;\n",
       "    }\n",
       "\n",
       "    .dataframe thead th {\n",
       "        text-align: right;\n",
       "    }\n",
       "</style>\n",
       "<table border=\"1\" class=\"dataframe\">\n",
       "  <thead>\n",
       "    <tr style=\"text-align: right;\">\n",
       "      <th></th>\n",
       "      <th>id</th>\n",
       "      <th>tweet</th>\n",
       "      <th>tweet_date</th>\n",
       "      <th>label</th>\n",
       "      <th>query_used</th>\n",
       "    </tr>\n",
       "  </thead>\n",
       "  <tbody>\n",
       "    <tr>\n",
       "      <th>0</th>\n",
       "      <td>1.049160e+18</td>\n",
       "      <td>@Vini_Arisato eu espero que não</td>\n",
       "      <td>Mon Oct 08 04:44:32 +0000 2018</td>\n",
       "      <td>0</td>\n",
       "      <td>:(</td>\n",
       "    </tr>\n",
       "    <tr>\n",
       "      <th>1</th>\n",
       "      <td>1.049100e+18</td>\n",
       "      <td>me diz aí o que vai ser do serviço social com ...</td>\n",
       "      <td>Mon Oct 08 01:10:03 +0000 2018</td>\n",
       "      <td>1</td>\n",
       "      <td>:)</td>\n",
       "    </tr>\n",
       "    <tr>\n",
       "      <th>2</th>\n",
       "      <td>1.050780e+18</td>\n",
       "      <td>inclusive, os nomes que eu uso aqui são de tes...</td>\n",
       "      <td>Fri Oct 12 16:08:25 +0000 2018</td>\n",
       "      <td>1</td>\n",
       "      <td>:)</td>\n",
       "    </tr>\n",
       "    <tr>\n",
       "      <th>3</th>\n",
       "      <td>1.047560e+18</td>\n",
       "      <td>@rangerlol1 Hora da panelinha começar a passar...</td>\n",
       "      <td>Wed Oct 03 18:36:01 +0000 2018</td>\n",
       "      <td>1</td>\n",
       "      <td>:)</td>\n",
       "    </tr>\n",
       "    <tr>\n",
       "      <th>4</th>\n",
       "      <td>1.046970e+18</td>\n",
       "      <td>Meu neosoro tá acabando</td>\n",
       "      <td>Tue Oct 02 03:28:50 +0000 2018</td>\n",
       "      <td>0</td>\n",
       "      <td>:(</td>\n",
       "    </tr>\n",
       "  </tbody>\n",
       "</table>\n",
       "</div>"
      ],
      "text/plain": [
       "             id                                              tweet  \\\n",
       "0  1.049160e+18                   @Vini_Arisato eu espero que não    \n",
       "1  1.049100e+18  me diz aí o que vai ser do serviço social com ...   \n",
       "2  1.050780e+18  inclusive, os nomes que eu uso aqui são de tes...   \n",
       "3  1.047560e+18  @rangerlol1 Hora da panelinha começar a passar...   \n",
       "4  1.046970e+18                           Meu neosoro tá acabando    \n",
       "\n",
       "                       tweet_date  label query_used  \n",
       "0  Mon Oct 08 04:44:32 +0000 2018      0         :(  \n",
       "1  Mon Oct 08 01:10:03 +0000 2018      1         :)  \n",
       "2  Fri Oct 12 16:08:25 +0000 2018      1         :)  \n",
       "3  Wed Oct 03 18:36:01 +0000 2018      1         :)  \n",
       "4  Tue Oct 02 03:28:50 +0000 2018      0         :(  "
      ]
     },
     "execution_count": 38,
     "metadata": {},
     "output_type": "execute_result"
    }
   ],
   "source": [
    "print(\"Train data shape:\", train_df.shape)\n",
    "print(\"\\nTrain data sample:\")\n",
    "train_df.head(5)"
   ]
  },
  {
   "cell_type": "code",
   "execution_count": 39,
   "id": "88d81d83-38aa-4dd3-82b9-cdbf3a6377d3",
   "metadata": {},
   "outputs": [
    {
     "name": "stdout",
     "output_type": "stream",
     "text": [
      "Test data shape: (5000, 3)\n",
      "\n",
      "Test data sample:\n"
     ]
    },
    {
     "data": {
      "text/html": [
       "<div>\n",
       "<style scoped>\n",
       "    .dataframe tbody tr th:only-of-type {\n",
       "        vertical-align: middle;\n",
       "    }\n",
       "\n",
       "    .dataframe tbody tr th {\n",
       "        vertical-align: top;\n",
       "    }\n",
       "\n",
       "    .dataframe thead th {\n",
       "        text-align: right;\n",
       "    }\n",
       "</style>\n",
       "<table border=\"1\" class=\"dataframe\">\n",
       "  <thead>\n",
       "    <tr style=\"text-align: right;\">\n",
       "      <th></th>\n",
       "      <th>id</th>\n",
       "      <th>tweet_text</th>\n",
       "      <th>tweet_date</th>\n",
       "    </tr>\n",
       "  </thead>\n",
       "  <tbody>\n",
       "    <tr>\n",
       "      <th>0</th>\n",
       "      <td>1029570266916159488</td>\n",
       "      <td>@Ataylandia vc paga o meu e eu como o seu  tau...</td>\n",
       "      <td>Wed Aug 15 03:27:34 +0000 2018</td>\n",
       "    </tr>\n",
       "    <tr>\n",
       "      <th>1</th>\n",
       "      <td>1030496040649142272</td>\n",
       "      <td>a mão ((((((( https://t.co/cdBTzTVCt6</td>\n",
       "      <td>Fri Aug 17 16:46:16 +0000 2018</td>\n",
       "    </tr>\n",
       "    <tr>\n",
       "      <th>2</th>\n",
       "      <td>1030496928755314688</td>\n",
       "      <td>@delucca geralmente a depressão é filha da ans...</td>\n",
       "      <td>Fri Aug 17 16:49:48 +0000 2018</td>\n",
       "    </tr>\n",
       "    <tr>\n",
       "      <th>3</th>\n",
       "      <td>1029559076815097856</td>\n",
       "      <td>SUPER INDICO!!! GRANDE PROFISSIONAL  https://t...</td>\n",
       "      <td>Wed Aug 15 02:43:06 +0000 2018</td>\n",
       "    </tr>\n",
       "    <tr>\n",
       "      <th>4</th>\n",
       "      <td>1029551213866573830</td>\n",
       "      <td>@Leticia75917877 Boa sorte</td>\n",
       "      <td>Wed Aug 15 02:11:52 +0000 2018</td>\n",
       "    </tr>\n",
       "  </tbody>\n",
       "</table>\n",
       "</div>"
      ],
      "text/plain": [
       "                    id                                         tweet_text  \\\n",
       "0  1029570266916159488  @Ataylandia vc paga o meu e eu como o seu  tau...   \n",
       "1  1030496040649142272              a mão ((((((( https://t.co/cdBTzTVCt6   \n",
       "2  1030496928755314688  @delucca geralmente a depressão é filha da ans...   \n",
       "3  1029559076815097856  SUPER INDICO!!! GRANDE PROFISSIONAL  https://t...   \n",
       "4  1029551213866573830                        @Leticia75917877 Boa sorte    \n",
       "\n",
       "                       tweet_date  \n",
       "0  Wed Aug 15 03:27:34 +0000 2018  \n",
       "1  Fri Aug 17 16:46:16 +0000 2018  \n",
       "2  Fri Aug 17 16:49:48 +0000 2018  \n",
       "3  Wed Aug 15 02:43:06 +0000 2018  \n",
       "4  Wed Aug 15 02:11:52 +0000 2018  "
      ]
     },
     "execution_count": 39,
     "metadata": {},
     "output_type": "execute_result"
    }
   ],
   "source": [
    "print(\"Test data shape:\", test_df.shape)\n",
    "print(\"\\nTest data sample:\")\n",
    "test_df.head(5)"
   ]
  },
  {
   "cell_type": "markdown",
   "id": "6f9b313b-69a9-480a-9a4c-47cff8ca62f4",
   "metadata": {
    "ExecuteTime": {
     "end_time": "2024-12-22T08:43:45.406679Z",
     "start_time": "2024-12-22T08:43:45.401859Z"
    }
   },
   "source": [
    "## Data Preprocessing "
   ]
  },
  {
   "cell_type": "code",
   "execution_count": 40,
   "id": "a88292472ab6e23d",
   "metadata": {
    "ExecuteTime": {
     "end_time": "2024-12-22T09:54:57.379461Z",
     "start_time": "2024-12-22T09:54:57.371494Z"
    }
   },
   "outputs": [
    {
     "name": "stdout",
     "output_type": "stream",
     "text": [
      "Train data shape:  (50000, 5)\n",
      "\n",
      "Duplicates:  8\n",
      "\n",
      "Null values:\n",
      " id            0\n",
      "tweet         0\n",
      "tweet_date    0\n",
      "label         0\n",
      "query_used    0\n",
      "dtype: int64\n"
     ]
    }
   ],
   "source": [
    "print(\"Train data shape: \",train_df.shape)\n",
    "print(\"\\nDuplicates: \",train_df.duplicated().sum())\n",
    "print(\"\\nNull values:\\n\",train_df.isnull().sum())"
   ]
  },
  {
   "cell_type": "code",
   "execution_count": 41,
   "id": "f3e80da8-676e-4a64-8593-b91be7ffbb0f",
   "metadata": {},
   "outputs": [
    {
     "data": {
      "text/plain": [
       "49995    Qual fic super boa que vc tá lendo? Indica aí ...\n",
       "49996    @BaptistaIsinha @lovelyoldmagcon @lovoitnb inc...\n",
       "49997                        a faculdade te muda pra pior \n",
       "49998    @dbxlro bola de futebol a chamar me de gordo ?...\n",
       "49999                     Bom dia  https://t.co/VvencX2D9W\n",
       "Name: tweet, dtype: object"
      ]
     },
     "execution_count": 41,
     "metadata": {},
     "output_type": "execute_result"
    }
   ],
   "source": [
    "train_df[\"tweet\"].tail(5)"
   ]
  },
  {
   "cell_type": "code",
   "execution_count": 42,
   "id": "f59b4bd2-1124-491f-9dda-931c1f5b2812",
   "metadata": {},
   "outputs": [],
   "source": [
    "with open('../static/model/nltk_data/corpora/stopwords/portuguese', 'r', encoding='utf-8') as f:\n",
    "        pt_stopwords = f.read().splitlines()"
   ]
  },
  {
   "cell_type": "code",
   "execution_count": 43,
   "id": "9b17f528-4c6b-4faf-be11-097bf614dbcd",
   "metadata": {},
   "outputs": [
    {
     "name": "stdout",
     "output_type": "stream",
     "text": [
      "['a', 'à', 'ao', 'aos', 'aquela', 'aquelas', 'aquele', 'aqueles', 'aquilo', 'as', 'às', 'até', 'com', 'como', 'da', 'das', 'de', 'dela', 'delas', 'dele', 'deles', 'depois', 'do', 'dos', 'e', 'é', 'ela', 'elas', 'ele', 'eles', 'em', 'entre', 'era', 'eram', 'éramos', 'essa', 'essas', 'esse', 'esses', 'esta', 'está', 'estamos', 'estão', 'estar', 'estas', 'estava', 'estavam', 'estávamos', 'este', 'esteja']\n"
     ]
    }
   ],
   "source": [
    "print(pt_stopwords[:50])"
   ]
  },
  {
   "cell_type": "markdown",
   "id": "f1e77f10b052524c",
   "metadata": {},
   "source": [
    "## Text Preprocessing -> Portuguese-specific preprocessing"
   ]
  },
  {
   "cell_type": "code",
   "execution_count": 44,
   "id": "c509f34bc0ba0ecb",
   "metadata": {
    "ExecuteTime": {
     "end_time": "2024-12-22T09:55:03.433362Z",
     "start_time": "2024-12-22T09:55:03.427270Z"
    }
   },
   "outputs": [],
   "source": [
    "def preprocess_text_pt(text):\n",
    "\n",
    "    # Handle NaN values\n",
    "    if pd.isna(text):\n",
    "        return ''\n",
    "        \n",
    "    # Lowercase\n",
    "    text = text.lower()\n",
    "    \n",
    "    # Remove URLs, mentions, and hashtags\n",
    "    text = re.sub(r'http\\S+|@\\w+|#\\w+', '', text)\n",
    "    \n",
    "    # Remove punctuation (keep Portuguese characters)\n",
    "    text = re.sub(r'[^\\w\\sáàâãéêíóôõúç]', '', text)\n",
    "\n",
    "    # Remove emojis\n",
    "    text = ''.join(c for c in text if unicodedata.category(c) != 'So')\n",
    "\n",
    "    # Remove accents (normalize to NFD and remove combining characters)\n",
    "    text = unicodedata.normalize('NFD', text).encode('ascii', 'ignore').decode(\"utf-8\")\n",
    "\n",
    "    # Remove punctuation\n",
    "    text = text.translate(str.maketrans('', '', '!\"#$%&\\'()*+,-./:;<=>?@[\\\\]^_`{|}~'))\n",
    "    \n",
    "    # Remove numbers\n",
    "    text = re.sub(r'\\d+', '', text)\n",
    "    \n",
    "    # Remove Portuguese stopwords\n",
    "    # Load stopwords fresh each time to ensure access\n",
    "    with open('../static/model/nltk_data/corpora/stopwords/portuguese', 'r', encoding='utf-8') as f:\n",
    "        pt_stopwords = f.read().splitlines()\n",
    "    \n",
    "    text = ' '.join([word for word in text.split() if word not in pt_stopwords])\n",
    "    \n",
    "   # Initialize stemmer after setting NLTK path\n",
    "    stemmer = RSLPStemmer()\n",
    "    text = ' '.join([stemmer.stem(word) for word in text.split()])\n",
    "    \n",
    "    return text"
   ]
  },
  {
   "cell_type": "markdown",
   "id": "6b09de61-f4a0-464f-9a32-cadc685e32c0",
   "metadata": {},
   "source": [
    "# Apply preprocessing"
   ]
  },
  {
   "cell_type": "code",
   "execution_count": 45,
   "id": "5f0e5939-3f1a-4c67-a74f-ef3393fa9dba",
   "metadata": {},
   "outputs": [],
   "source": [
    "# Apply preprocessing both train and test datset\n",
    "train_df['processed_text'] = train_df['tweet'].apply(preprocess_text_pt)\n",
    "test_df['processed_text'] = test_df['tweet_text'].apply(preprocess_text_pt)"
   ]
  },
  {
   "cell_type": "code",
   "execution_count": 46,
   "id": "1d67443f-de9d-4ed7-88df-49195655f993",
   "metadata": {},
   "outputs": [
    {
     "data": {
      "text/plain": [
       "0                                            esper nao\n",
       "1                     diz ai vai serv soc bolsonar pod\n",
       "2    inclusiv nom uso aqu sao test ta ahdjshsj aind...\n",
       "3    hor panel comec pass pan fal arrepend ped desc...\n",
       "4                                       neosor ta acab\n",
       "Name: processed_text, dtype: object"
      ]
     },
     "execution_count": 46,
     "metadata": {},
     "output_type": "execute_result"
    }
   ],
   "source": [
    "train_df[\"processed_text\"].head(5)"
   ]
  },
  {
   "cell_type": "code",
   "execution_count": 47,
   "id": "dab0dab9-4011-4b9e-8687-9934c9431818",
   "metadata": {},
   "outputs": [
    {
     "data": {
      "text/plain": [
       "0                                      vc pag tauan aq\n",
       "1                                                  mao\n",
       "2    geral depressa filh ansiedad ne pi comb possi ...\n",
       "3                              sup indic grand profiss\n",
       "4                                             boa sort\n",
       "Name: processed_text, dtype: object"
      ]
     },
     "execution_count": 47,
     "metadata": {},
     "output_type": "execute_result"
    }
   ],
   "source": [
    "test_df[\"processed_text\"].head(5)"
   ]
  },
  {
   "cell_type": "markdown",
   "id": "8c95bbda-140c-405a-a42c-e8fe61a41cd8",
   "metadata": {},
   "source": [
    "# Building Vacabulary"
   ]
  },
  {
   "cell_type": "code",
   "execution_count": 48,
   "id": "4401eaa3-c344-4dc9-8180-e74c9f3bf6ed",
   "metadata": {},
   "outputs": [],
   "source": [
    "# Build Portuguese vocabulary\n",
    "vocab = Counter()\n",
    "for sentence in train_df['processed_text']:\n",
    "    vocab.update(sentence.split())"
   ]
  },
  {
   "cell_type": "code",
   "execution_count": 49,
   "id": "09a27fd8-5d1f-4b23-b449-825b570ab8fc",
   "metadata": {},
   "outputs": [
    {
     "name": "stdout",
     "output_type": "stream",
     "text": [
      "Train dataset Shape:  (50000, 6)\n",
      "Vocabulary Size:  21140\n"
     ]
    }
   ],
   "source": [
    "print(\"Train dataset Shape: \",train_df.shape)\n",
    "print(\"Vocabulary Size: \",len(vocab))"
   ]
  },
  {
   "cell_type": "code",
   "execution_count": 50,
   "id": "1f91454a-6cd9-4830-98ed-91e17473d503",
   "metadata": {},
   "outputs": [
    {
     "name": "stdout",
     "output_type": "stream",
     "text": [
      "[('nao', 12377), ('pra', 5486), ('so', 4128), ('quer', 3951), ('to', 3901), ('voc', 3209), ('d', 3206), ('dia', 3092), ('q', 3019), ('ta', 2993), ('ja', 2705), ('vou', 2602), ('faz', 2572), ('vai', 2534), ('vc', 2490), ('fic', 2468), ('tod', 2278), ('bem', 2152), ('p', 2144), ('ai', 2030), ('fal', 2018), ('bom', 1968), ('ach', 1884), ('ter', 1883), ('pod', 1826), ('trist', 1788), ('gent', 1725), ('tud', 1705), ('n', 1689), ('pq', 1688), ('cois', 1655), ('tao', 1597), ('vot', 1584), ('pesso', 1535), ('aqu', 1492), ('agor', 1481), ('sab', 1429), ('sim', 1418), ('ver', 1399), ('hoj', 1381), ('aind', 1371), ('amig', 1361), ('melhor', 1280), ('amo', 1265), ('pass', 1264), ('obrig', 1246), ('tant', 1233), ('sei', 1219), ('gost', 1217), ('nad', 1210)]\n"
     ]
    }
   ],
   "source": [
    "print(vocab.most_common(50))"
   ]
  },
  {
   "cell_type": "code",
   "execution_count": 51,
   "id": "264939586b487ae7",
   "metadata": {
    "ExecuteTime": {
     "end_time": "2024-12-22T11:53:51.083973Z",
     "start_time": "2024-12-22T11:53:51.059890Z"
    }
   },
   "outputs": [],
   "source": [
    "# Filter vocabulary (words appearing at least 2 times)\n",
    "min_freq = 2\n",
    "tokens = [word for word, count in vocab.items() if count >= min_freq]"
   ]
  },
  {
   "cell_type": "code",
   "execution_count": 52,
   "id": "240414043b55fdab",
   "metadata": {
    "ExecuteTime": {
     "end_time": "2024-12-22T11:54:10.864601Z",
     "start_time": "2024-12-22T11:54:10.855703Z"
    }
   },
   "outputs": [
    {
     "name": "stdout",
     "output_type": "stream",
     "text": [
      "\n",
      "Filtered Token Size:  9414\n"
     ]
    }
   ],
   "source": [
    "print('\\nFiltered Token Size: ',len(tokens))"
   ]
  },
  {
   "cell_type": "markdown",
   "id": "850bb317-7c73-4d86-a727-cb2645f851a6",
   "metadata": {},
   "source": [
    "# Saving Vocabulary "
   ]
  },
  {
   "cell_type": "code",
   "execution_count": 53,
   "id": "be89e7b24585a2af",
   "metadata": {
    "ExecuteTime": {
     "end_time": "2024-12-22T13:21:38.822678Z",
     "start_time": "2024-12-22T13:21:38.742122Z"
    }
   },
   "outputs": [],
   "source": [
    "def save_vocabulary (lines, filename):\n",
    "    data = '\\n'.join(lines)\n",
    "    file= open(filename, 'w', encoding=\"utf-8\")\n",
    "    file.write(data)\n",
    "    file.close()\n",
    "    \n",
    "save_vocabulary(tokens, '../static/model/portuguese_vocabulary.txt')"
   ]
  },
  {
   "cell_type": "markdown",
   "id": "3a95a36f-b7c6-40ca-9505-e27c86db55c5",
   "metadata": {},
   "source": [
    "# Vectorization function"
   ]
  },
  {
   "cell_type": "code",
   "execution_count": 54,
   "id": "7e728d27-1781-4a2a-bd4c-7e2634c95a8f",
   "metadata": {},
   "outputs": [],
   "source": [
    "def vectorizer(ds, vocabulary):\n",
    "    vectorized = np.zeros((len(ds), len(vocabulary)), dtype=np.float32)\n",
    "    for i, sentence in enumerate(ds):\n",
    "        for j, word in enumerate(vocabulary):\n",
    "            if word in sentence.split():\n",
    "                vectorized[i, j] = 1\n",
    "    return vectorized"
   ]
  },
  {
   "cell_type": "code",
   "execution_count": 55,
   "id": "25f1d566-678b-43d6-945e-f42c3ed2d3ba",
   "metadata": {},
   "outputs": [],
   "source": [
    "X = vectorizer(train_df['processed_text'], tokens)\n",
    "y = train_df['label'].values"
   ]
  },
  {
   "cell_type": "code",
   "execution_count": 56,
   "id": "6255cfb2-0781-4d7e-a4f9-04e129790b1a",
   "metadata": {},
   "outputs": [],
   "source": [
    "X_test = vectorizer(test_df['processed_text'], tokens)"
   ]
  },
  {
   "cell_type": "markdown",
   "id": "a7146a99-e482-4771-87cb-fa739e76c211",
   "metadata": {},
   "source": [
    "# Split Data for Train & Test"
   ]
  },
  {
   "cell_type": "code",
   "execution_count": 57,
   "id": "42b6e2de-0395-41ba-8d9c-8c9e0cdf56c3",
   "metadata": {},
   "outputs": [],
   "source": [
    "\n",
    "# Split data\n",
    "X_train, X_test, y_train, y_test = train_test_split(X, y, test_size=0.2, random_state=42)\n"
   ]
  },
  {
   "cell_type": "markdown",
   "id": "3822d900-6a18-4069-b4e2-151fd477cd2c",
   "metadata": {},
   "source": [
    "# Checking whether the data set is balanced or unbalanced."
   ]
  },
  {
   "cell_type": "code",
   "execution_count": 58,
   "id": "be1e482a-a9b3-4983-96f4-bb3a00f3d5db",
   "metadata": {},
   "outputs": [
    {
     "data": {
      "image/png": "[encoded data removed]",
      "text/plain": [
       "<Figure size 400x400 with 1 Axes>"
      ]
     },
     "metadata": {},
     "output_type": "display_data"
    }
   ],
   "source": [
    "# Class distribution (0s and 1s)\n",
    "class_counts = train_df['label'].value_counts()\n",
    "\n",
    "# Create the pie chart\n",
    "plt.figure(figsize=(4, 4))\n",
    "plt.pie(class_counts, labels=['Negative (0)', 'Positive (1)'], autopct='%1.1f%%', startangle=90, colors=['#ff4d4d','#2ECC71'])\n",
    "plt.title('Class Distribution in Training Data')\n",
    "plt.axis('equal')  # Equal aspect ratio ensures the pie chart is circular\n",
    "plt.show()"
   ]
  },
  {
   "cell_type": "markdown",
   "id": "be364722-31cc-485a-a585-8d282cdafc1b",
   "metadata": {},
   "source": [
    "# Model Train & Evaluation "
   ]
  },
  {
   "cell_type": "code",
   "execution_count": 59,
   "id": "11542cc2-cd6c-4569-8d0b-72cf3d2e9b5c",
   "metadata": {},
   "outputs": [],
   "source": [
    "import pickle\n",
    "from sklearn.metrics import (\n",
    "    accuracy_score,\n",
    "    precision_score,\n",
    "    recall_score,\n",
    "    f1_score,\n",
    "    classification_report\n",
    ")\n",
    "from sklearn.linear_model import LogisticRegression\n",
    "from sklearn.naive_bayes import MultinomialNB\n",
    "from sklearn.ensemble import RandomForestClassifier\n",
    "from sklearn.tree import DecisionTreeClassifier\n"
   ]
  },
  {
   "cell_type": "code",
   "execution_count": 60,
   "id": "7293ddbd-79f4-46ab-9998-af303432e4fb",
   "metadata": {},
   "outputs": [],
   "source": [
    "# Define scoring functions\n",
    "def training_scores(y_act, y_pred):\n",
    "    acc = round(accuracy_score(y_act, y_pred), 3)\n",
    "    pr = round(precision_score(y_act, y_pred), 3)\n",
    "    rec = round(recall_score(y_act, y_pred), 3)\n",
    "    f1 = round(f1_score(y_act, y_pred), 3)\n",
    "    print(f'Training Scores: \\n\\tAccuracy = {acc}\\n\\tPrecision = {pr}\\n\\tRecall = {rec}\\n\\tF1-Score = {f1}')\n",
    "\n",
    "def validation_scores(y_act, y_pred):\n",
    "    acc = round(accuracy_score(y_act, y_pred), 3)\n",
    "    pr = round(precision_score(y_act, y_pred), 3)\n",
    "    rec = round(recall_score(y_act, y_pred), 3)\n",
    "    f1 = round(f1_score(y_act, y_pred), 3)\n",
    "    print(f'Testing Scores: \\n\\tAccuracy = {acc}\\n\\tPrecision = {pr}\\n\\tRecall = {rec}\\n\\tF1-Score = {f1}')"
   ]
  },
  {
   "cell_type": "markdown",
   "id": "0ef2fe11-b1a6-42d1-9877-c3ac3cc15a54",
   "metadata": {},
   "source": [
    "# Test Logistic Regression"
   ]
  },
  {
   "cell_type": "code",
   "execution_count": 61,
   "id": "f8f0853b-98d9-4bb1-9da5-2b2bec3ae742",
   "metadata": {},
   "outputs": [
    {
     "name": "stdout",
     "output_type": "stream",
     "text": [
      "\n",
      "=== Training Set ===\n",
      "Training Scores: \n",
      "\tAccuracy = 0.83\n",
      "\tPrecision = 0.844\n",
      "\tRecall = 0.809\n",
      "\tF1-Score = 0.826\n",
      "\n",
      "=== Test Set ===\n",
      "Testing Scores: \n",
      "\tAccuracy = 0.768\n",
      "\tPrecision = 0.785\n",
      "\tRecall = 0.74\n",
      "\tF1-Score = 0.762\n",
      "\n",
      "=== Classification Report ===\n",
      "              precision    recall  f1-score   support\n",
      "\n",
      "           0      0.752     0.795     0.773      4972\n",
      "           1      0.785     0.740     0.762      5028\n",
      "\n",
      "    accuracy                          0.768     10000\n",
      "   macro avg      0.768     0.768     0.767     10000\n",
      "weighted avg      0.769     0.768     0.767     10000\n",
      "\n"
     ]
    }
   ],
   "source": [
    "\n",
    "lr = LogisticRegression(max_iter=1000)\n",
    "lr.fit(X_train, y_train)\n",
    "\n",
    "y_train_pred_lr = lr.predict(X_train)\n",
    "y_test_pred_lr = lr.predict(X_test)\n",
    "\n",
    "print(\"\\n=== Training Set ===\")\n",
    "training_scores(y_train, y_train_pred_lr)\n",
    "\n",
    "print(\"\\n=== Test Set ===\")\n",
    "validation_scores(y_test, y_test_pred_lr)\n",
    "\n",
    "print(\"\\n=== Classification Report ===\")\n",
    "print(classification_report(y_test, y_test_pred_lr, digits=3))"
   ]
  },
  {
   "cell_type": "markdown",
   "id": "9d73a024-c31a-4977-93c0-14c850d033c6",
   "metadata": {},
   "source": [
    "# Test Naive Bayes (MultinomialNB)"
   ]
  },
  {
   "cell_type": "code",
   "execution_count": 29,
   "id": "1efe63ff-f3f5-4acf-832b-290133022e38",
   "metadata": {},
   "outputs": [
    {
     "name": "stdout",
     "output_type": "stream",
     "text": [
      "\n",
      "=== Training Set ===\n",
      "Training Scores: \n",
      "\tAccuracy = 0.807\n",
      "\tPrecision = 0.825\n",
      "\tRecall = 0.779\n",
      "\tF1-Score = 0.802\n",
      "\n",
      "=== Test Set ===\n",
      "Testing Scores: \n",
      "\tAccuracy = 0.765\n",
      "\tPrecision = 0.784\n",
      "\tRecall = 0.735\n",
      "\tF1-Score = 0.758\n",
      "\n",
      "=== Classification Report ===\n",
      "              precision    recall  f1-score   support\n",
      "\n",
      "           0      0.748     0.795     0.770      4972\n",
      "           1      0.784     0.735     0.758      5028\n",
      "\n",
      "    accuracy                          0.765     10000\n",
      "   macro avg      0.766     0.765     0.764     10000\n",
      "weighted avg      0.766     0.765     0.764     10000\n",
      "\n"
     ]
    }
   ],
   "source": [
    "mnb = MultinomialNB()\n",
    "mnb.fit(X_train, y_train)\n",
    "\n",
    "y_train_pred_mnb = mnb.predict(X_train)\n",
    "y_test_pred_mnb = mnb.predict(X_test)\n",
    "\n",
    "print(\"\\n=== Training Set ===\")\n",
    "training_scores(y_train, y_train_pred_mnb)\n",
    "\n",
    "print(\"\\n=== Test Set ===\")\n",
    "validation_scores(y_test, y_test_pred_mnb)\n",
    "\n",
    "print(\"\\n=== Classification Report ===\")\n",
    "print(classification_report(y_test, y_test_pred_mnb, digits=3))"
   ]
  },
  {
   "cell_type": "markdown",
   "id": "0cd5863c-8821-4931-842a-0cae80f2da76",
   "metadata": {},
   "source": [
    "# Test Random Forest"
   ]
  },
  {
   "cell_type": "code",
   "execution_count": 30,
   "id": "60a193b2-1f0a-48eb-905c-97aa4505a238",
   "metadata": {},
   "outputs": [
    {
     "name": "stdout",
     "output_type": "stream",
     "text": [
      "\n",
      "=== Training Set ===\n",
      "Training Scores: \n",
      "\tAccuracy = 0.984\n",
      "\tPrecision = 0.98\n",
      "\tRecall = 0.988\n",
      "\tF1-Score = 0.984\n",
      "\n",
      "=== Test Set ===\n",
      "Testing Scores: \n",
      "\tAccuracy = 0.75\n",
      "\tPrecision = 0.774\n",
      "\tRecall = 0.709\n",
      "\tF1-Score = 0.74\n",
      "\n",
      "=== Classification Report ===\n",
      "              precision    recall  f1-score   support\n",
      "\n",
      "           0      0.729     0.790     0.758      4972\n",
      "           1      0.774     0.709     0.740      5028\n",
      "\n",
      "    accuracy                          0.750     10000\n",
      "   macro avg      0.751     0.750     0.749     10000\n",
      "weighted avg      0.751     0.750     0.749     10000\n",
      "\n"
     ]
    }
   ],
   "source": [
    "rf = RandomForestClassifier(n_estimators=100)\n",
    "rf.fit(X_train, y_train)\n",
    "\n",
    "y_train_pred_rf = rf.predict(X_train)\n",
    "y_test_pred_rf = rf.predict(X_test)\n",
    "\n",
    "print(\"\\n=== Training Set ===\")\n",
    "training_scores(y_train, y_train_pred_rf)\n",
    "\n",
    "print(\"\\n=== Test Set ===\")\n",
    "validation_scores(y_test, y_test_pred_rf)\n",
    "\n",
    "print(\"\\n=== Classification Report ===\")\n",
    "print(classification_report(y_test, y_test_pred_rf, digits=3))"
   ]
  },
  {
   "cell_type": "markdown",
   "id": "26b8d435-bde4-46a2-96d2-2b979c3841bf",
   "metadata": {},
   "source": [
    "# Test DecisionTree"
   ]
  },
  {
   "cell_type": "code",
   "execution_count": 31,
   "id": "27978e41-ceb0-4eb9-9926-7f321a587783",
   "metadata": {},
   "outputs": [
    {
     "name": "stdout",
     "output_type": "stream",
     "text": [
      "=== Training Set ===\n",
      "Training Scores: \n",
      "\tAccuracy = 0.984\n",
      "\tPrecision = 0.983\n",
      "\tRecall = 0.985\n",
      "\tF1-Score = 0.984\n",
      "\n",
      "=== Test Set ===\n",
      "Testing Scores: \n",
      "\tAccuracy = 0.7\n",
      "\tPrecision = 0.71\n",
      "\tRecall = 0.679\n",
      "\tF1-Score = 0.695\n",
      "\n",
      "=== Classification Report ===\n",
      "              precision    recall  f1-score   support\n",
      "\n",
      "           0      0.690     0.720     0.704      4972\n",
      "           1      0.710     0.679     0.695      5028\n",
      "\n",
      "    accuracy                          0.700     10000\n",
      "   macro avg      0.700     0.700     0.700     10000\n",
      "weighted avg      0.700     0.700     0.699     10000\n",
      "\n"
     ]
    }
   ],
   "source": [
    "dt = DecisionTreeClassifier()\n",
    "dt.fit(X_train,y_train)\n",
    "\n",
    "y_train_pred_dt = dt.predict(X_train)\n",
    "y_test_pred_dt = dt.predict(X_test)\n",
    "\n",
    "print(\"=== Training Set ===\")\n",
    "training_scores(y_train, y_train_pred_dt)\n",
    "\n",
    "print(\"\\n=== Test Set ===\")\n",
    "validation_scores(y_test, y_test_pred_dt)\n",
    "\n",
    "print(\"\\n=== Classification Report ===\")\n",
    "print(classification_report(y_test, y_test_pred_dt, digits=3))"
   ]
  },
  {
   "cell_type": "markdown",
   "id": "70fd7a2e-0399-42c6-9fb1-eba2b116a082",
   "metadata": {},
   "source": [
    "# Save Best Model"
   ]
  },
  {
   "cell_type": "code",
   "execution_count": 40,
   "id": "48f6be69-a894-4f85-8708-7050f1cb8378",
   "metadata": {},
   "outputs": [
    {
     "name": "stdout",
     "output_type": "stream",
     "text": [
      "Logistic Regression model saved as: logistic_regression_Latest_model_BR3.pkl\n"
     ]
    }
   ],
   "source": [
    "# Save Logistic Regression model\n",
    "save_directory = '../static/model/'\n",
    "os.makedirs(save_directory, exist_ok=True)\n",
    "filename_lr = os.path.join(save_directory, 'model.pkl')\n",
    "with open(filename_lr, 'wb') as file:\n",
    "    pickle.dump(lr, file)\n",
    "\n",
    "print(f\"Logistic Regression model saved as: {filename_lr}\")"
   ]
  },
  {
   "cell_type": "markdown",
   "id": "a5d1b8d1-eec0-4779-a8fa-8d9e81c90937",
   "metadata": {},
   "source": [
    "# Prepare Keggle Submission File"
   ]
  },
  {
   "cell_type": "code",
   "execution_count": 41,
   "id": "ed36f8a5-79dd-430d-aa74-8aac8af7e16f",
   "metadata": {},
   "outputs": [
    {
     "name": "stdout",
     "output_type": "stream",
     "text": [
      "\n",
      "Preparing full training data for submission...\n",
      "Training final model on full dataset...\n",
      "Generating competition predictions...\n",
      "\n",
      "=== Submission Summary ===\n",
      "File saved: TweetSentimentAnalyseBR3.csv\n",
      "Total predictions: 5000\n",
      "Class distribution:\n",
      "sentiment\n",
      "0    2583\n",
      "1    2417\n",
      "Name: count, dtype: int64\n",
      "\n",
      "Sample predictions:\n",
      "                    id  sentiment\n",
      "0  1029570266916159488          1\n",
      "1  1030496040649142272          0\n",
      "2  1030496928755314688          0\n",
      "\n"
     ]
    }
   ],
   "source": [
    "\n",
    "# 1. Prepare Full Training Data\n",
    "print(\"\\nPreparing full training data for submission...\")\n",
    "X_full = vectorizer(train_df['processed_text'], tokens)  # Use entire 50k samples\n",
    "y_full = train_df['label']\n",
    "\n",
    "# 2. Train Final Logistic Regression Model\n",
    "print(\"Training final model on full dataset...\")\n",
    "final_model = LogisticRegression(max_iter=1000)\n",
    "final_model.fit(X_full, y_full)\n",
    "\n",
    "# 3. Vectorize Competition Data (Using Same Vocabulary)\n",
    "X_competition = vectorizer(test_df['processed_text'], tokens)\n",
    "\n",
    "# 4. Generate Predictions\n",
    "print(\"Generating competition predictions...\")\n",
    "competition_preds = final_model.predict(X_competition)\n",
    "\n",
    "# 5. Create Submission File\n",
    "submission = pd.DataFrame({\n",
    "    'id': test_df['id'],\n",
    "    'sentiment': competition_preds\n",
    "})\n",
    "\n",
    "# 6. Save Submission\n",
    "submission_filename = \"TweetSentimentAnalyseSub1.csv\"\n",
    "download_path = os.path.join(r\"C:\\Users\\Ishara Maduranga\\Downloads\", submission_filename)\n",
    "submission.to_csv(download_path, index=False)\n",
    "\n",
    "\n",
    "print(f\"\"\"\n",
    "=== Submission Summary ===\n",
    "File saved: {submission_file}\n",
    "Total predictions: {len(submission)}\n",
    "Class distribution:\n",
    "{submission['sentiment'].value_counts()}\n",
    "\n",
    "Sample predictions:\n",
    "{submission.head(3)}\n",
    "\"\"\")\n"
   ]
  },
  {
   "cell_type": "markdown",
   "id": "15c4fed7-c9c8-4b56-b147-368a6dafc508",
   "metadata": {},
   "source": [
    "# ==========================================="
   ]
  },
  {
   "cell_type": "code",
   "execution_count": null,
   "id": "671445f6-877a-4823-8731-54b90ac41dab",
   "metadata": {},
   "outputs": [],
   "source": []
  }
 ],
 "metadata": {
  "kernelspec": {
   "display_name": "Python 3 (ipykernel)",
   "language": "python",
   "name": "python3"
  },
  "language_info": {
   "codemirror_mode": {
    "name": "ipython",
    "version": 3
   },
   "file_extension": ".py",
   "mimetype": "text/x-python",
   "name": "python",
   "nbconvert_exporter": "python",
   "pygments_lexer": "ipython3",
   "version": "3.11.4"
  }
 },
 "nbformat": 4,
 "nbformat_minor": 5
}
